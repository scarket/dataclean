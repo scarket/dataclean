{
 "cells": [
  {
   "cell_type": "code",
   "execution_count": 11,
   "outputs": [
    {
     "data": {
      "text/plain": "pandas.core.series.Series"
     },
     "execution_count": 11,
     "metadata": {},
     "output_type": "execute_result"
    }
   ],
   "source": [
    "import pandas as pd\n",
    "import numpy as np\n",
    "\n",
    "ages = pd.Series([20, 22, 25, 27, 21, 23, 37, 31, 61, 45, 41, 32])\n",
    "cut_ages = pd.cut(ages,bins=4,right=False,labels=['y','m','h','s'])\n",
    "#bins =4自动划分为4个相同长度区间段，赋予自定义标签ymhs\n",
    "type(cut_ages)"
   ],
   "metadata": {
    "collapsed": false,
    "pycharm": {
     "name": "#%%\n"
    }
   }
  },
  {
   "cell_type": "code",
   "execution_count": 12,
   "outputs": [
    {
     "data": {
      "text/plain": "0      [20, 30)\n1      [20, 30)\n2      [20, 30)\n3      [20, 30)\n4      [20, 30)\n5      [20, 30)\n6      [30, 40)\n7      [30, 40)\n8     [50, 100)\n9      [40, 50)\n10     [40, 50)\n11     [30, 40)\ndtype: category\nCategories (4, interval[int64, left]): [[20, 30) < [30, 40) < [40, 50) < [50, 100)]"
     },
     "execution_count": 12,
     "metadata": {},
     "output_type": "execute_result"
    }
   ],
   "source": [
    "cut_ages02 = pd.cut(ages,bins=[20,30,40,50,100],right=False)\n",
    "#bins =[20,30,40,50,100]自动划分为4个指定长度区间段\n",
    "cut_ages02"
   ],
   "metadata": {
    "collapsed": false,
    "pycharm": {
     "name": "#%%\n"
    }
   }
  },
  {
   "cell_type": "code",
   "execution_count": 9,
   "outputs": [
    {
     "data": {
      "text/plain": "[20, 30)     6\n[30, 40)     3\n[40, 50)     2\n[50, 100)    1\ndtype: int64"
     },
     "execution_count": 9,
     "metadata": {},
     "output_type": "execute_result"
    }
   ],
   "source": [
    "pd.value_counts(cut_ages02)"
   ],
   "metadata": {
    "collapsed": false,
    "pycharm": {
     "name": "#%%\n"
    }
   }
  },
  {
   "cell_type": "code",
   "execution_count": 13,
   "outputs": [
    {
     "data": {
      "text/plain": "0     (19.99, 22.75]\n1     (19.99, 22.75]\n2      (22.75, 29.0]\n3      (22.75, 29.0]\n4     (19.99, 22.75]\n5      (22.75, 29.0]\n6       (29.0, 38.0]\n7       (29.0, 38.0]\n8       (38.0, 61.0]\n9       (38.0, 61.0]\n10      (38.0, 61.0]\n11      (29.0, 38.0]\ndtype: category\nCategories (4, interval[float64, right]): [(19.99, 22.75] < (22.75, 29.0] < (29.0, 38.0] < (38.0, 61.0]]"
     },
     "execution_count": 13,
     "metadata": {},
     "output_type": "execute_result"
    }
   ],
   "source": [
    "qcut_ages = pd.qcut(ages,q=4,precision=2)\n",
    "qcut_ages"
   ],
   "metadata": {
    "collapsed": false,
    "pycharm": {
     "name": "#%%\n"
    }
   }
  },
  {
   "cell_type": "code",
   "execution_count": 14,
   "outputs": [
    {
     "data": {
      "text/plain": "(19.99, 22.75]    3\n(22.75, 29.0]     3\n(29.0, 38.0]      3\n(38.0, 61.0]      3\ndtype: int64"
     },
     "execution_count": 14,
     "metadata": {},
     "output_type": "execute_result"
    }
   ],
   "source": [
    "qcut_ages.value_counts()"
   ],
   "metadata": {
    "collapsed": false,
    "pycharm": {
     "name": "#%%\n"
    }
   }
  },
  {
   "cell_type": "code",
   "execution_count": 33,
   "outputs": [
    {
     "data": {
      "text/plain": "          0         1         2         3\n0  0.106825  0.438667 -1.920554  1.029589\n1 -0.890829  1.344598  0.932655 -0.842001\n2 -1.509937 -0.613835 -1.441997  1.527164\n3  1.085971 -2.038800 -0.409649 -0.084086\n4 -0.710285 -0.609097  0.793278 -1.021521\n5 -0.029459 -0.917988  1.377495  0.804054\n6 -0.216108  0.047400  1.759444  0.045964",
      "text/html": "<div>\n<style scoped>\n    .dataframe tbody tr th:only-of-type {\n        vertical-align: middle;\n    }\n\n    .dataframe tbody tr th {\n        vertical-align: top;\n    }\n\n    .dataframe thead th {\n        text-align: right;\n    }\n</style>\n<table border=\"1\" class=\"dataframe\">\n  <thead>\n    <tr style=\"text-align: right;\">\n      <th></th>\n      <th>0</th>\n      <th>1</th>\n      <th>2</th>\n      <th>3</th>\n    </tr>\n  </thead>\n  <tbody>\n    <tr>\n      <th>0</th>\n      <td>0.106825</td>\n      <td>0.438667</td>\n      <td>-1.920554</td>\n      <td>1.029589</td>\n    </tr>\n    <tr>\n      <th>1</th>\n      <td>-0.890829</td>\n      <td>1.344598</td>\n      <td>0.932655</td>\n      <td>-0.842001</td>\n    </tr>\n    <tr>\n      <th>2</th>\n      <td>-1.509937</td>\n      <td>-0.613835</td>\n      <td>-1.441997</td>\n      <td>1.527164</td>\n    </tr>\n    <tr>\n      <th>3</th>\n      <td>1.085971</td>\n      <td>-2.038800</td>\n      <td>-0.409649</td>\n      <td>-0.084086</td>\n    </tr>\n    <tr>\n      <th>4</th>\n      <td>-0.710285</td>\n      <td>-0.609097</td>\n      <td>0.793278</td>\n      <td>-1.021521</td>\n    </tr>\n    <tr>\n      <th>5</th>\n      <td>-0.029459</td>\n      <td>-0.917988</td>\n      <td>1.377495</td>\n      <td>0.804054</td>\n    </tr>\n    <tr>\n      <th>6</th>\n      <td>-0.216108</td>\n      <td>0.047400</td>\n      <td>1.759444</td>\n      <td>0.045964</td>\n    </tr>\n  </tbody>\n</table>\n</div>"
     },
     "execution_count": 33,
     "metadata": {},
     "output_type": "execute_result"
    }
   ],
   "source": [
    "import pandas as pd\n",
    "import numpy as np\n",
    "data_0720 = pd.DataFrame(np.random.randn(1000,4))\n",
    "data_0720.head(7)"
   ],
   "metadata": {
    "collapsed": false,
    "pycharm": {
     "name": "#%%\n"
    }
   }
  },
  {
   "cell_type": "code",
   "execution_count": 12,
   "outputs": [
    {
     "data": {
      "text/plain": "376    3.214909\n389   -3.934196\nName: 0, dtype: float64"
     },
     "execution_count": 12,
     "metadata": {},
     "output_type": "execute_result"
    }
   ],
   "source": [
    "over3_0 = data_0720[data_0720[0].abs()>3][0]\n",
    "over3_0  #查看第0列是否有绝对值大于3的数据"
   ],
   "metadata": {
    "collapsed": false,
    "pycharm": {
     "name": "#%%\n"
    }
   }
  },
  {
   "cell_type": "code",
   "execution_count": 41,
   "outputs": [
    {
     "data": {
      "text/plain": "            0         1         2         3\n7   -1.389917 -3.734365  0.109803 -0.121412\n61  -2.652243 -1.266683 -3.286649  0.785624\n239  0.509082  0.924030  3.088802 -2.279464\n291  0.681410 -0.823826 -0.882670 -3.294480\n336  3.184116 -0.305703 -1.864167 -1.846729\n481 -3.585298 -0.849881  0.180401 -1.719095\n499  3.156884  2.152578  0.007470 -0.618926\n600  3.260594  0.487043  0.077893 -0.379451\n768 -3.683419  0.231017  1.550987  0.916922\n780 -3.011111  1.380708  1.054339  0.440321",
      "text/html": "<div>\n<style scoped>\n    .dataframe tbody tr th:only-of-type {\n        vertical-align: middle;\n    }\n\n    .dataframe tbody tr th {\n        vertical-align: top;\n    }\n\n    .dataframe thead th {\n        text-align: right;\n    }\n</style>\n<table border=\"1\" class=\"dataframe\">\n  <thead>\n    <tr style=\"text-align: right;\">\n      <th></th>\n      <th>0</th>\n      <th>1</th>\n      <th>2</th>\n      <th>3</th>\n    </tr>\n  </thead>\n  <tbody>\n    <tr>\n      <th>7</th>\n      <td>-1.389917</td>\n      <td>-3.734365</td>\n      <td>0.109803</td>\n      <td>-0.121412</td>\n    </tr>\n    <tr>\n      <th>61</th>\n      <td>-2.652243</td>\n      <td>-1.266683</td>\n      <td>-3.286649</td>\n      <td>0.785624</td>\n    </tr>\n    <tr>\n      <th>239</th>\n      <td>0.509082</td>\n      <td>0.924030</td>\n      <td>3.088802</td>\n      <td>-2.279464</td>\n    </tr>\n    <tr>\n      <th>291</th>\n      <td>0.681410</td>\n      <td>-0.823826</td>\n      <td>-0.882670</td>\n      <td>-3.294480</td>\n    </tr>\n    <tr>\n      <th>336</th>\n      <td>3.184116</td>\n      <td>-0.305703</td>\n      <td>-1.864167</td>\n      <td>-1.846729</td>\n    </tr>\n    <tr>\n      <th>481</th>\n      <td>-3.585298</td>\n      <td>-0.849881</td>\n      <td>0.180401</td>\n      <td>-1.719095</td>\n    </tr>\n    <tr>\n      <th>499</th>\n      <td>3.156884</td>\n      <td>2.152578</td>\n      <td>0.007470</td>\n      <td>-0.618926</td>\n    </tr>\n    <tr>\n      <th>600</th>\n      <td>3.260594</td>\n      <td>0.487043</td>\n      <td>0.077893</td>\n      <td>-0.379451</td>\n    </tr>\n    <tr>\n      <th>768</th>\n      <td>-3.683419</td>\n      <td>0.231017</td>\n      <td>1.550987</td>\n      <td>0.916922</td>\n    </tr>\n    <tr>\n      <th>780</th>\n      <td>-3.011111</td>\n      <td>1.380708</td>\n      <td>1.054339</td>\n      <td>0.440321</td>\n    </tr>\n  </tbody>\n</table>\n</div>"
     },
     "execution_count": 41,
     "metadata": {},
     "output_type": "execute_result"
    }
   ],
   "source": [
    "over3_all =  data_0720[data_0720.abs()>3].dropna(axis=0,how='all')\n",
    "#显示所有含有【绝对值大于3】的行方法1\n",
    "data_0720.iloc[over3_all.index,:]"
   ],
   "metadata": {
    "collapsed": false,
    "pycharm": {
     "name": "#%%\n"
    }
   }
  },
  {
   "cell_type": "code",
   "execution_count": 28,
   "outputs": [
    {
     "data": {
      "text/plain": "Empty DataFrame\nColumns: [0, 1, 2, 3]\nIndex: []",
      "text/html": "<div>\n<style scoped>\n    .dataframe tbody tr th:only-of-type {\n        vertical-align: middle;\n    }\n\n    .dataframe tbody tr th {\n        vertical-align: top;\n    }\n\n    .dataframe thead th {\n        text-align: right;\n    }\n</style>\n<table border=\"1\" class=\"dataframe\">\n  <thead>\n    <tr style=\"text-align: right;\">\n      <th></th>\n      <th>0</th>\n      <th>1</th>\n      <th>2</th>\n      <th>3</th>\n    </tr>\n  </thead>\n  <tbody>\n  </tbody>\n</table>\n</div>"
     },
     "execution_count": 28,
     "metadata": {},
     "output_type": "execute_result"
    }
   ],
   "source": [
    "data_0720[(data_0720.abs()>3).any(1)]"
   ],
   "metadata": {
    "collapsed": false,
    "pycharm": {
     "name": "#%%\n"
    }
   }
  },
  {
   "cell_type": "markdown",
   "source": [],
   "metadata": {
    "collapsed": false
   }
  },
  {
   "cell_type": "code",
   "execution_count": 112,
   "outputs": [
    {
     "data": {
      "text/plain": "            0         1         2         3\n7   -1.389917 -3.734365  0.109803 -0.121412\n61  -2.652243 -1.266683 -3.286649  0.785624\n239  0.509082  0.924030  3.088802 -2.279464\n291  0.681410 -0.823826 -0.882670 -3.294480\n336  3.184116 -0.305703 -1.864167 -1.846729\n481 -3.585298 -0.849881  0.180401 -1.719095\n499  3.156884  2.152578  0.007470 -0.618926\n600  3.260594  0.487043  0.077893 -0.379451\n768 -3.683419  0.231017  1.550987  0.916922\n780 -3.011111  1.380708  1.054339  0.440321",
      "text/html": "<div>\n<style scoped>\n    .dataframe tbody tr th:only-of-type {\n        vertical-align: middle;\n    }\n\n    .dataframe tbody tr th {\n        vertical-align: top;\n    }\n\n    .dataframe thead th {\n        text-align: right;\n    }\n</style>\n<table border=\"1\" class=\"dataframe\">\n  <thead>\n    <tr style=\"text-align: right;\">\n      <th></th>\n      <th>0</th>\n      <th>1</th>\n      <th>2</th>\n      <th>3</th>\n    </tr>\n  </thead>\n  <tbody>\n    <tr>\n      <th>7</th>\n      <td>-1.389917</td>\n      <td>-3.734365</td>\n      <td>0.109803</td>\n      <td>-0.121412</td>\n    </tr>\n    <tr>\n      <th>61</th>\n      <td>-2.652243</td>\n      <td>-1.266683</td>\n      <td>-3.286649</td>\n      <td>0.785624</td>\n    </tr>\n    <tr>\n      <th>239</th>\n      <td>0.509082</td>\n      <td>0.924030</td>\n      <td>3.088802</td>\n      <td>-2.279464</td>\n    </tr>\n    <tr>\n      <th>291</th>\n      <td>0.681410</td>\n      <td>-0.823826</td>\n      <td>-0.882670</td>\n      <td>-3.294480</td>\n    </tr>\n    <tr>\n      <th>336</th>\n      <td>3.184116</td>\n      <td>-0.305703</td>\n      <td>-1.864167</td>\n      <td>-1.846729</td>\n    </tr>\n    <tr>\n      <th>481</th>\n      <td>-3.585298</td>\n      <td>-0.849881</td>\n      <td>0.180401</td>\n      <td>-1.719095</td>\n    </tr>\n    <tr>\n      <th>499</th>\n      <td>3.156884</td>\n      <td>2.152578</td>\n      <td>0.007470</td>\n      <td>-0.618926</td>\n    </tr>\n    <tr>\n      <th>600</th>\n      <td>3.260594</td>\n      <td>0.487043</td>\n      <td>0.077893</td>\n      <td>-0.379451</td>\n    </tr>\n    <tr>\n      <th>768</th>\n      <td>-3.683419</td>\n      <td>0.231017</td>\n      <td>1.550987</td>\n      <td>0.916922</td>\n    </tr>\n    <tr>\n      <th>780</th>\n      <td>-3.011111</td>\n      <td>1.380708</td>\n      <td>1.054339</td>\n      <td>0.440321</td>\n    </tr>\n  </tbody>\n</table>\n</div>"
     },
     "execution_count": 112,
     "metadata": {},
     "output_type": "execute_result"
    }
   ],
   "source": [
    "data_0720[(np.abs(data_0720)>3).any(1)]  #显示所有含有【绝对值大于3】的行方法2"
   ],
   "metadata": {
    "collapsed": false,
    "pycharm": {
     "name": "#%%\n"
    }
   }
  },
  {
   "cell_type": "code",
   "execution_count": 25,
   "outputs": [],
   "source": [
    "#将上述边界值设置为±3\n",
    "data_0720[(np.abs(data_0720)>3).any(1)] = np.sign(data_0720)*3"
   ],
   "metadata": {
    "collapsed": false,
    "pycharm": {
     "name": "#%%\n"
    }
   }
  },
  {
   "cell_type": "code",
   "execution_count": 27,
   "outputs": [
    {
     "data": {
      "text/plain": "                 0            1            2            3\ncount  1000.000000  1000.000000  1000.000000  1000.000000\nmean      0.007218    -0.022974     0.014084     0.020574\nstd       0.986860     1.051595     1.020312     1.020784\nmin      -3.000000    -3.000000    -3.000000    -3.000000\n25%      -0.616117    -0.728849    -0.628908    -0.663122\n50%       0.031306    -0.026557    -0.019594    -0.022666\n75%       0.645558     0.668198     0.680348     0.691943\nmax       3.000000     3.000000     3.000000     3.000000",
      "text/html": "<div>\n<style scoped>\n    .dataframe tbody tr th:only-of-type {\n        vertical-align: middle;\n    }\n\n    .dataframe tbody tr th {\n        vertical-align: top;\n    }\n\n    .dataframe thead th {\n        text-align: right;\n    }\n</style>\n<table border=\"1\" class=\"dataframe\">\n  <thead>\n    <tr style=\"text-align: right;\">\n      <th></th>\n      <th>0</th>\n      <th>1</th>\n      <th>2</th>\n      <th>3</th>\n    </tr>\n  </thead>\n  <tbody>\n    <tr>\n      <th>count</th>\n      <td>1000.000000</td>\n      <td>1000.000000</td>\n      <td>1000.000000</td>\n      <td>1000.000000</td>\n    </tr>\n    <tr>\n      <th>mean</th>\n      <td>0.007218</td>\n      <td>-0.022974</td>\n      <td>0.014084</td>\n      <td>0.020574</td>\n    </tr>\n    <tr>\n      <th>std</th>\n      <td>0.986860</td>\n      <td>1.051595</td>\n      <td>1.020312</td>\n      <td>1.020784</td>\n    </tr>\n    <tr>\n      <th>min</th>\n      <td>-3.000000</td>\n      <td>-3.000000</td>\n      <td>-3.000000</td>\n      <td>-3.000000</td>\n    </tr>\n    <tr>\n      <th>25%</th>\n      <td>-0.616117</td>\n      <td>-0.728849</td>\n      <td>-0.628908</td>\n      <td>-0.663122</td>\n    </tr>\n    <tr>\n      <th>50%</th>\n      <td>0.031306</td>\n      <td>-0.026557</td>\n      <td>-0.019594</td>\n      <td>-0.022666</td>\n    </tr>\n    <tr>\n      <th>75%</th>\n      <td>0.645558</td>\n      <td>0.668198</td>\n      <td>0.680348</td>\n      <td>0.691943</td>\n    </tr>\n    <tr>\n      <th>max</th>\n      <td>3.000000</td>\n      <td>3.000000</td>\n      <td>3.000000</td>\n      <td>3.000000</td>\n    </tr>\n  </tbody>\n</table>\n</div>"
     },
     "execution_count": 27,
     "metadata": {},
     "output_type": "execute_result"
    }
   ],
   "source": [
    "data_0720.describe()"
   ],
   "metadata": {
    "collapsed": false,
    "pycharm": {
     "name": "#%%\n"
    }
   }
  },
  {
   "cell_type": "code",
   "execution_count": 37,
   "outputs": [
    {
     "data": {
      "text/plain": "            0         1         2         3\n7   -1.389917 -3.734365  0.109803 -0.121412\n61  -2.652243 -1.266683 -3.286649  0.785624\n239  0.509082  0.924030  3.088802 -2.279464\n291  0.681410 -0.823826 -0.882670 -3.294480\n336  3.184116 -0.305703 -1.864167 -1.846729\n481 -3.585298 -0.849881  0.180401 -1.719095\n499  3.156884  2.152578  0.007470 -0.618926\n600  3.260594  0.487043  0.077893 -0.379451\n768 -3.683419  0.231017  1.550987  0.916922\n780 -3.011111  1.380708  1.054339  0.440321",
      "text/html": "<div>\n<style scoped>\n    .dataframe tbody tr th:only-of-type {\n        vertical-align: middle;\n    }\n\n    .dataframe tbody tr th {\n        vertical-align: top;\n    }\n\n    .dataframe thead th {\n        text-align: right;\n    }\n</style>\n<table border=\"1\" class=\"dataframe\">\n  <thead>\n    <tr style=\"text-align: right;\">\n      <th></th>\n      <th>0</th>\n      <th>1</th>\n      <th>2</th>\n      <th>3</th>\n    </tr>\n  </thead>\n  <tbody>\n    <tr>\n      <th>7</th>\n      <td>-1.389917</td>\n      <td>-3.734365</td>\n      <td>0.109803</td>\n      <td>-0.121412</td>\n    </tr>\n    <tr>\n      <th>61</th>\n      <td>-2.652243</td>\n      <td>-1.266683</td>\n      <td>-3.286649</td>\n      <td>0.785624</td>\n    </tr>\n    <tr>\n      <th>239</th>\n      <td>0.509082</td>\n      <td>0.924030</td>\n      <td>3.088802</td>\n      <td>-2.279464</td>\n    </tr>\n    <tr>\n      <th>291</th>\n      <td>0.681410</td>\n      <td>-0.823826</td>\n      <td>-0.882670</td>\n      <td>-3.294480</td>\n    </tr>\n    <tr>\n      <th>336</th>\n      <td>3.184116</td>\n      <td>-0.305703</td>\n      <td>-1.864167</td>\n      <td>-1.846729</td>\n    </tr>\n    <tr>\n      <th>481</th>\n      <td>-3.585298</td>\n      <td>-0.849881</td>\n      <td>0.180401</td>\n      <td>-1.719095</td>\n    </tr>\n    <tr>\n      <th>499</th>\n      <td>3.156884</td>\n      <td>2.152578</td>\n      <td>0.007470</td>\n      <td>-0.618926</td>\n    </tr>\n    <tr>\n      <th>600</th>\n      <td>3.260594</td>\n      <td>0.487043</td>\n      <td>0.077893</td>\n      <td>-0.379451</td>\n    </tr>\n    <tr>\n      <th>768</th>\n      <td>-3.683419</td>\n      <td>0.231017</td>\n      <td>1.550987</td>\n      <td>0.916922</td>\n    </tr>\n    <tr>\n      <th>780</th>\n      <td>-3.011111</td>\n      <td>1.380708</td>\n      <td>1.054339</td>\n      <td>0.440321</td>\n    </tr>\n  </tbody>\n</table>\n</div>"
     },
     "execution_count": 37,
     "metadata": {},
     "output_type": "execute_result"
    }
   ],
   "source": [
    "data_0720[data_0720[data_0720.abs()>3].any(1)]"
   ],
   "metadata": {
    "collapsed": false,
    "pycharm": {
     "name": "#%%\n"
    }
   }
  },
  {
   "cell_type": "code",
   "execution_count": 42,
   "outputs": [
    {
     "data": {
      "text/plain": "   a  b  c\n0  0  1  0\n1  0  1  0\n2  1  0  0\n3  0  0  1\n4  1  0  0\n5  0  1  0",
      "text/html": "<div>\n<style scoped>\n    .dataframe tbody tr th:only-of-type {\n        vertical-align: middle;\n    }\n\n    .dataframe tbody tr th {\n        vertical-align: top;\n    }\n\n    .dataframe thead th {\n        text-align: right;\n    }\n</style>\n<table border=\"1\" class=\"dataframe\">\n  <thead>\n    <tr style=\"text-align: right;\">\n      <th></th>\n      <th>a</th>\n      <th>b</th>\n      <th>c</th>\n    </tr>\n  </thead>\n  <tbody>\n    <tr>\n      <th>0</th>\n      <td>0</td>\n      <td>1</td>\n      <td>0</td>\n    </tr>\n    <tr>\n      <th>1</th>\n      <td>0</td>\n      <td>1</td>\n      <td>0</td>\n    </tr>\n    <tr>\n      <th>2</th>\n      <td>1</td>\n      <td>0</td>\n      <td>0</td>\n    </tr>\n    <tr>\n      <th>3</th>\n      <td>0</td>\n      <td>0</td>\n      <td>1</td>\n    </tr>\n    <tr>\n      <th>4</th>\n      <td>1</td>\n      <td>0</td>\n      <td>0</td>\n    </tr>\n    <tr>\n      <th>5</th>\n      <td>0</td>\n      <td>1</td>\n      <td>0</td>\n    </tr>\n  </tbody>\n</table>\n</div>"
     },
     "execution_count": 42,
     "metadata": {},
     "output_type": "execute_result"
    }
   ],
   "source": [
    "#哑变量  指数矩阵\n",
    "df01 = pd.DataFrame({'key': ['b', 'b', 'a', 'c', 'a', 'b'],\n",
    "                    'data1': range(6)})\n",
    "pd.get_dummies(df01['key'])\n",
    "#get_dummies获取某一列中所有元素和其出现的行数的矩阵"
   ],
   "metadata": {
    "collapsed": false,
    "pycharm": {
     "name": "#%%\n"
    }
   }
  },
  {
   "cell_type": "code",
   "execution_count": 61,
   "outputs": [
    {
     "data": {
      "text/plain": "   key->a  key->b  key->c  data1\n0       0       1       0      0\n1       0       1       0      1\n2       1       0       0      2\n3       0       0       1      3\n4       1       0       0      4\n5       0       1       0      5",
      "text/html": "<div>\n<style scoped>\n    .dataframe tbody tr th:only-of-type {\n        vertical-align: middle;\n    }\n\n    .dataframe tbody tr th {\n        vertical-align: top;\n    }\n\n    .dataframe thead th {\n        text-align: right;\n    }\n</style>\n<table border=\"1\" class=\"dataframe\">\n  <thead>\n    <tr style=\"text-align: right;\">\n      <th></th>\n      <th>key-&gt;a</th>\n      <th>key-&gt;b</th>\n      <th>key-&gt;c</th>\n      <th>data1</th>\n    </tr>\n  </thead>\n  <tbody>\n    <tr>\n      <th>0</th>\n      <td>0</td>\n      <td>1</td>\n      <td>0</td>\n      <td>0</td>\n    </tr>\n    <tr>\n      <th>1</th>\n      <td>0</td>\n      <td>1</td>\n      <td>0</td>\n      <td>1</td>\n    </tr>\n    <tr>\n      <th>2</th>\n      <td>1</td>\n      <td>0</td>\n      <td>0</td>\n      <td>2</td>\n    </tr>\n    <tr>\n      <th>3</th>\n      <td>0</td>\n      <td>0</td>\n      <td>1</td>\n      <td>3</td>\n    </tr>\n    <tr>\n      <th>4</th>\n      <td>1</td>\n      <td>0</td>\n      <td>0</td>\n      <td>4</td>\n    </tr>\n    <tr>\n      <th>5</th>\n      <td>0</td>\n      <td>1</td>\n      <td>0</td>\n      <td>5</td>\n    </tr>\n  </tbody>\n</table>\n</div>"
     },
     "execution_count": 61,
     "metadata": {},
     "output_type": "execute_result"
    }
   ],
   "source": [
    "df01_dummeis = pd.get_dummies(df01['key'],prefix='key',prefix_sep='->')\n",
    "df_with_dummeis = df01['data1'].copy()\n",
    "#get_dummies获取某一列中所有元素和其出现的行数的矩阵\n",
    "#其中prefix，prefix_sep在元素之前添加一段指定字符串和符号\n",
    "#将数据合并\n",
    "df01_dummeis[df_with_dummeis.name] = df_with_dummeis\n",
    "df01_dummeis"
   ],
   "metadata": {
    "collapsed": false,
    "pycharm": {
     "name": "#%%\n"
    }
   }
  },
  {
   "cell_type": "code",
   "execution_count": 59,
   "outputs": [],
   "source": [],
   "metadata": {
    "collapsed": false,
    "pycharm": {
     "name": "#%%\n"
    }
   }
  },
  {
   "cell_type": "code",
   "execution_count": 60,
   "outputs": [
    {
     "data": {
      "text/plain": "   key->a  key->b  key->c  data1\n0       0       1       0      0\n1       0       1       0      1\n2       1       0       0      2\n3       0       0       1      3\n4       1       0       0      4\n5       0       1       0      5",
      "text/html": "<div>\n<style scoped>\n    .dataframe tbody tr th:only-of-type {\n        vertical-align: middle;\n    }\n\n    .dataframe tbody tr th {\n        vertical-align: top;\n    }\n\n    .dataframe thead th {\n        text-align: right;\n    }\n</style>\n<table border=\"1\" class=\"dataframe\">\n  <thead>\n    <tr style=\"text-align: right;\">\n      <th></th>\n      <th>key-&gt;a</th>\n      <th>key-&gt;b</th>\n      <th>key-&gt;c</th>\n      <th>data1</th>\n    </tr>\n  </thead>\n  <tbody>\n    <tr>\n      <th>0</th>\n      <td>0</td>\n      <td>1</td>\n      <td>0</td>\n      <td>0</td>\n    </tr>\n    <tr>\n      <th>1</th>\n      <td>0</td>\n      <td>1</td>\n      <td>0</td>\n      <td>1</td>\n    </tr>\n    <tr>\n      <th>2</th>\n      <td>1</td>\n      <td>0</td>\n      <td>0</td>\n      <td>2</td>\n    </tr>\n    <tr>\n      <th>3</th>\n      <td>0</td>\n      <td>0</td>\n      <td>1</td>\n      <td>3</td>\n    </tr>\n    <tr>\n      <th>4</th>\n      <td>1</td>\n      <td>0</td>\n      <td>0</td>\n      <td>4</td>\n    </tr>\n    <tr>\n      <th>5</th>\n      <td>0</td>\n      <td>1</td>\n      <td>0</td>\n      <td>5</td>\n    </tr>\n  </tbody>\n</table>\n</div>"
     },
     "execution_count": 60,
     "metadata": {},
     "output_type": "execute_result"
    }
   ],
   "source": [],
   "metadata": {
    "collapsed": false,
    "pycharm": {
     "name": "#%%\n"
    }
   }
  },
  {
   "cell_type": "code",
   "execution_count": 203,
   "outputs": [
    {
     "name": "stderr",
     "output_type": "stream",
     "text": [
      "/var/folders/72/fyrrth9j2cz9w9jm3pm798c00000gn/T/ipykernel_3556/2378147351.py:1: ParserWarning: Falling back to the 'python' engine because the 'c' engine does not support regex separators (separators > 1 char and different from '\\s+' are interpreted as regex); you can avoid this warning by specifying engine='python'.\n",
      "  movies = pd.read_table('movies.txt', sep='::',\n"
     ]
    },
    {
     "data": {
      "text/plain": "   movie_id                               title                        genres\n0         1                    Toy Story (1995)   Animation|Children's|Comedy\n1         2                      Jumanji (1995)  Adventure|Children's|Fantasy\n2         3             Grumpier Old Men (1995)                Comedy|Romance\n3         4            Waiting to Exhale (1995)                  Comedy|Drama\n4         5  Father of the Bride Part II (1995)                        Comedy\n5         6                         Heat (1995)         Action|Crime|Thriller",
      "text/html": "<div>\n<style scoped>\n    .dataframe tbody tr th:only-of-type {\n        vertical-align: middle;\n    }\n\n    .dataframe tbody tr th {\n        vertical-align: top;\n    }\n\n    .dataframe thead th {\n        text-align: right;\n    }\n</style>\n<table border=\"1\" class=\"dataframe\">\n  <thead>\n    <tr style=\"text-align: right;\">\n      <th></th>\n      <th>movie_id</th>\n      <th>title</th>\n      <th>genres</th>\n    </tr>\n  </thead>\n  <tbody>\n    <tr>\n      <th>0</th>\n      <td>1</td>\n      <td>Toy Story (1995)</td>\n      <td>Animation|Children's|Comedy</td>\n    </tr>\n    <tr>\n      <th>1</th>\n      <td>2</td>\n      <td>Jumanji (1995)</td>\n      <td>Adventure|Children's|Fantasy</td>\n    </tr>\n    <tr>\n      <th>2</th>\n      <td>3</td>\n      <td>Grumpier Old Men (1995)</td>\n      <td>Comedy|Romance</td>\n    </tr>\n    <tr>\n      <th>3</th>\n      <td>4</td>\n      <td>Waiting to Exhale (1995)</td>\n      <td>Comedy|Drama</td>\n    </tr>\n    <tr>\n      <th>4</th>\n      <td>5</td>\n      <td>Father of the Bride Part II (1995)</td>\n      <td>Comedy</td>\n    </tr>\n    <tr>\n      <th>5</th>\n      <td>6</td>\n      <td>Heat (1995)</td>\n      <td>Action|Crime|Thriller</td>\n    </tr>\n  </tbody>\n</table>\n</div>"
     },
     "execution_count": 203,
     "metadata": {},
     "output_type": "execute_result"
    }
   ],
   "source": [
    "movies = pd.read_table('movies.txt', sep='::',\n",
    "                       header=None, names=['movie_id', 'title', 'genres'])\n",
    "movies.head(6)"
   ],
   "metadata": {
    "collapsed": false,
    "pycharm": {
     "name": "#%%\n"
    }
   }
  },
  {
   "cell_type": "code",
   "execution_count": 78,
   "outputs": [],
   "source": [
    "genres = movies['genres'].copy()\n",
    "genres.to_csv('genres.csv',index=False,header=False)"
   ],
   "metadata": {
    "collapsed": false,
    "pycharm": {
     "name": "#%%\n"
    }
   }
  },
  {
   "cell_type": "code",
   "execution_count": 86,
   "outputs": [
    {
     "data": {
      "text/plain": "list"
     },
     "execution_count": 86,
     "metadata": {},
     "output_type": "execute_result"
    }
   ],
   "source": [
    "import csv\n",
    "f = open('genres.csv')\n",
    "genres_read = csv.reader(f,delimiter = '|')\n",
    "genres_lines = list(genres_read)\n",
    "type(genres_lines)"
   ],
   "metadata": {
    "collapsed": false,
    "pycharm": {
     "name": "#%%\n"
    }
   }
  },
  {
   "cell_type": "code",
   "execution_count": 88,
   "outputs": [
    {
     "data": {
      "text/plain": "[['Animation', \"Children's\", 'Comedy'],\n ['Adventure', \"Children's\", 'Fantasy'],\n ['Comedy', 'Romance'],\n ['Comedy', 'Drama'],\n ['Comedy'],\n ['Action', 'Crime', 'Thriller']]"
     },
     "execution_count": 88,
     "metadata": {},
     "output_type": "execute_result"
    }
   ],
   "source": [
    "genres_lines[:6]"
   ],
   "metadata": {
    "collapsed": false,
    "pycharm": {
     "name": "#%%\n"
    }
   }
  },
  {
   "cell_type": "code",
   "execution_count": 100,
   "outputs": [],
   "source": [
    "genres_pd = pd.DataFrame(genres_lines,columns=list('abcdef'))"
   ],
   "metadata": {
    "collapsed": false,
    "pycharm": {
     "name": "#%%\n"
    }
   }
  },
  {
   "cell_type": "code",
   "execution_count": 135,
   "outputs": [
    {
     "data": {
      "text/plain": "              a           b        c     d     e     f\n0     Animation  Children's   Comedy  None  None  None\n1     Adventure  Children's  Fantasy  None  None  None\n2        Comedy     Romance     None  None  None  None\n3        Comedy       Drama     None  None  None  None\n4        Comedy        None     None  None  None  None\n...         ...         ...      ...   ...   ...   ...\n3878     Comedy        None     None  None  None  None\n3879      Drama        None     None  None  None  None\n3880      Drama        None     None  None  None  None\n3881      Drama        None     None  None  None  None\n3882      Drama    Thriller     None  None  None  None\n\n[3883 rows x 6 columns]",
      "text/html": "<div>\n<style scoped>\n    .dataframe tbody tr th:only-of-type {\n        vertical-align: middle;\n    }\n\n    .dataframe tbody tr th {\n        vertical-align: top;\n    }\n\n    .dataframe thead th {\n        text-align: right;\n    }\n</style>\n<table border=\"1\" class=\"dataframe\">\n  <thead>\n    <tr style=\"text-align: right;\">\n      <th></th>\n      <th>a</th>\n      <th>b</th>\n      <th>c</th>\n      <th>d</th>\n      <th>e</th>\n      <th>f</th>\n    </tr>\n  </thead>\n  <tbody>\n    <tr>\n      <th>0</th>\n      <td>Animation</td>\n      <td>Children's</td>\n      <td>Comedy</td>\n      <td>None</td>\n      <td>None</td>\n      <td>None</td>\n    </tr>\n    <tr>\n      <th>1</th>\n      <td>Adventure</td>\n      <td>Children's</td>\n      <td>Fantasy</td>\n      <td>None</td>\n      <td>None</td>\n      <td>None</td>\n    </tr>\n    <tr>\n      <th>2</th>\n      <td>Comedy</td>\n      <td>Romance</td>\n      <td>None</td>\n      <td>None</td>\n      <td>None</td>\n      <td>None</td>\n    </tr>\n    <tr>\n      <th>3</th>\n      <td>Comedy</td>\n      <td>Drama</td>\n      <td>None</td>\n      <td>None</td>\n      <td>None</td>\n      <td>None</td>\n    </tr>\n    <tr>\n      <th>4</th>\n      <td>Comedy</td>\n      <td>None</td>\n      <td>None</td>\n      <td>None</td>\n      <td>None</td>\n      <td>None</td>\n    </tr>\n    <tr>\n      <th>...</th>\n      <td>...</td>\n      <td>...</td>\n      <td>...</td>\n      <td>...</td>\n      <td>...</td>\n      <td>...</td>\n    </tr>\n    <tr>\n      <th>3878</th>\n      <td>Comedy</td>\n      <td>None</td>\n      <td>None</td>\n      <td>None</td>\n      <td>None</td>\n      <td>None</td>\n    </tr>\n    <tr>\n      <th>3879</th>\n      <td>Drama</td>\n      <td>None</td>\n      <td>None</td>\n      <td>None</td>\n      <td>None</td>\n      <td>None</td>\n    </tr>\n    <tr>\n      <th>3880</th>\n      <td>Drama</td>\n      <td>None</td>\n      <td>None</td>\n      <td>None</td>\n      <td>None</td>\n      <td>None</td>\n    </tr>\n    <tr>\n      <th>3881</th>\n      <td>Drama</td>\n      <td>None</td>\n      <td>None</td>\n      <td>None</td>\n      <td>None</td>\n      <td>None</td>\n    </tr>\n    <tr>\n      <th>3882</th>\n      <td>Drama</td>\n      <td>Thriller</td>\n      <td>None</td>\n      <td>None</td>\n      <td>None</td>\n      <td>None</td>\n    </tr>\n  </tbody>\n</table>\n<p>3883 rows × 6 columns</p>\n</div>"
     },
     "execution_count": 135,
     "metadata": {},
     "output_type": "execute_result"
    }
   ],
   "source": [
    "genres_pd"
   ],
   "metadata": {
    "collapsed": false,
    "pycharm": {
     "name": "#%%\n"
    }
   }
  },
  {
   "cell_type": "code",
   "execution_count": 130,
   "outputs": [
    {
     "data": {
      "text/plain": "0       False\n1       False\n2       False\n3       False\n4       False\n        ...  \n3878    False\n3879    False\n3880    False\n3881    False\n3882    False\nLength: 3883, dtype: bool"
     },
     "execution_count": 130,
     "metadata": {},
     "output_type": "execute_result"
    }
   ],
   "source": [
    "genres_pd.notnull().all(axis=1)"
   ],
   "metadata": {
    "collapsed": false,
    "pycharm": {
     "name": "#%%\n"
    }
   }
  },
  {
   "cell_type": "code",
   "execution_count": 131,
   "outputs": [
    {
     "data": {
      "text/plain": "           a          b           c       d         e    f\n1187  Action  Animation  Children's  Sci-Fi  Thriller  War",
      "text/html": "<div>\n<style scoped>\n    .dataframe tbody tr th:only-of-type {\n        vertical-align: middle;\n    }\n\n    .dataframe tbody tr th {\n        vertical-align: top;\n    }\n\n    .dataframe thead th {\n        text-align: right;\n    }\n</style>\n<table border=\"1\" class=\"dataframe\">\n  <thead>\n    <tr style=\"text-align: right;\">\n      <th></th>\n      <th>a</th>\n      <th>b</th>\n      <th>c</th>\n      <th>d</th>\n      <th>e</th>\n      <th>f</th>\n    </tr>\n  </thead>\n  <tbody>\n    <tr>\n      <th>1187</th>\n      <td>Action</td>\n      <td>Animation</td>\n      <td>Children's</td>\n      <td>Sci-Fi</td>\n      <td>Thriller</td>\n      <td>War</td>\n    </tr>\n  </tbody>\n</table>\n</div>"
     },
     "execution_count": 131,
     "metadata": {},
     "output_type": "execute_result"
    }
   ],
   "source": [
    "genres_pd[genres_pd.notnull().all(axis=1)]"
   ],
   "metadata": {
    "collapsed": false,
    "pycharm": {
     "name": "#%%\n"
    }
   }
  },
  {
   "cell_type": "code",
   "execution_count": 182,
   "outputs": [
    {
     "data": {
      "text/plain": "array(['Animation', 'Adventure', 'Comedy', 'Action', 'Drama', 'Thriller',\n       'Crime', 'Romance', \"Children's\", 'Documentary', 'Sci-Fi',\n       'Horror', 'Western', 'Mystery', 'Film-Noir', 'War', 'Fantasy',\n       'Musical'], dtype=object)"
     },
     "execution_count": 182,
     "metadata": {},
     "output_type": "execute_result"
    }
   ],
   "source": [
    "genres_pd.loc[:,'a'].unique()"
   ],
   "metadata": {
    "collapsed": false,
    "pycharm": {
     "name": "#%%\n"
    }
   }
  },
  {
   "cell_type": "code",
   "execution_count": 133,
   "outputs": [
    {
     "data": {
      "text/plain": "   movie_id                               title                        genres\n0         1                    Toy Story (1995)   Animation|Children's|Comedy\n1         2                      Jumanji (1995)  Adventure|Children's|Fantasy\n2         3             Grumpier Old Men (1995)                Comedy|Romance\n3         4            Waiting to Exhale (1995)                  Comedy|Drama\n4         5  Father of the Bride Part II (1995)                        Comedy\n5         6                         Heat (1995)         Action|Crime|Thriller",
      "text/html": "<div>\n<style scoped>\n    .dataframe tbody tr th:only-of-type {\n        vertical-align: middle;\n    }\n\n    .dataframe tbody tr th {\n        vertical-align: top;\n    }\n\n    .dataframe thead th {\n        text-align: right;\n    }\n</style>\n<table border=\"1\" class=\"dataframe\">\n  <thead>\n    <tr style=\"text-align: right;\">\n      <th></th>\n      <th>movie_id</th>\n      <th>title</th>\n      <th>genres</th>\n    </tr>\n  </thead>\n  <tbody>\n    <tr>\n      <th>0</th>\n      <td>1</td>\n      <td>Toy Story (1995)</td>\n      <td>Animation|Children's|Comedy</td>\n    </tr>\n    <tr>\n      <th>1</th>\n      <td>2</td>\n      <td>Jumanji (1995)</td>\n      <td>Adventure|Children's|Fantasy</td>\n    </tr>\n    <tr>\n      <th>2</th>\n      <td>3</td>\n      <td>Grumpier Old Men (1995)</td>\n      <td>Comedy|Romance</td>\n    </tr>\n    <tr>\n      <th>3</th>\n      <td>4</td>\n      <td>Waiting to Exhale (1995)</td>\n      <td>Comedy|Drama</td>\n    </tr>\n    <tr>\n      <th>4</th>\n      <td>5</td>\n      <td>Father of the Bride Part II (1995)</td>\n      <td>Comedy</td>\n    </tr>\n    <tr>\n      <th>5</th>\n      <td>6</td>\n      <td>Heat (1995)</td>\n      <td>Action|Crime|Thriller</td>\n    </tr>\n  </tbody>\n</table>\n</div>"
     },
     "execution_count": 133,
     "metadata": {},
     "output_type": "execute_result"
    }
   ],
   "source": [
    "movies.head(6)"
   ],
   "metadata": {
    "collapsed": false,
    "pycharm": {
     "name": "#%%\n"
    }
   }
  },
  {
   "cell_type": "code",
   "execution_count": 134,
   "outputs": [
    {
     "data": {
      "text/plain": "      dumm->Action  dumm->Adventure  dumm->Animation  dumm->Children's  \\\n0                0                0                1                 0   \n1                0                1                0                 0   \n2                0                0                0                 0   \n3                0                0                0                 0   \n4                0                0                0                 0   \n...            ...              ...              ...               ...   \n3878             0                0                0                 0   \n3879             0                0                0                 0   \n3880             0                0                0                 0   \n3881             0                0                0                 0   \n3882             0                0                0                 0   \n\n      dumm->Comedy  dumm->Crime  dumm->Documentary  dumm->Drama  \\\n0                0            0                  0            0   \n1                0            0                  0            0   \n2                1            0                  0            0   \n3                1            0                  0            0   \n4                1            0                  0            0   \n...            ...          ...                ...          ...   \n3878             1            0                  0            0   \n3879             0            0                  0            1   \n3880             0            0                  0            1   \n3881             0            0                  0            1   \n3882             0            0                  0            1   \n\n      dumm->Fantasy  dumm->Film-Noir  ...  dumm->Thriller  dumm->War  \\\n0                 0                0  ...               0          0   \n1                 0                0  ...               0          0   \n2                 0                0  ...               0          0   \n3                 0                0  ...               0          0   \n4                 0                0  ...               0          0   \n...             ...              ...  ...             ...        ...   \n3878              0                0  ...               0          0   \n3879              0                0  ...               0          0   \n3880              0                0  ...               0          0   \n3881              0                0  ...               0          0   \n3882              0                0  ...               0          0   \n\n      dumm->Western  dumm->Fantasy  dumm->Musical  dumm->Romance  \\\n0                 0              0              0              0   \n1                 0              0              0              0   \n2                 0              0              0              0   \n3                 0              0              0              0   \n4                 0              0              0              0   \n...             ...            ...            ...            ...   \n3878              0              0              0              0   \n3879              0              0              0              0   \n3880              0              0              0              0   \n3881              0              0              0              0   \n3882              0              0              0              0   \n\n      dumm->Sci-Fi  dumm->Thriller  dumm->War  dumm->War  \n0                0               0          0          0  \n1                0               0          0          0  \n2                0               0          0          0  \n3                0               0          0          0  \n4                0               0          0          0  \n...            ...             ...        ...        ...  \n3878             0               0          0          0  \n3879             0               0          0          0  \n3880             0               0          0          0  \n3881             0               0          0          0  \n3882             0               0          0          0  \n\n[3883 rows x 70 columns]",
      "text/html": "<div>\n<style scoped>\n    .dataframe tbody tr th:only-of-type {\n        vertical-align: middle;\n    }\n\n    .dataframe tbody tr th {\n        vertical-align: top;\n    }\n\n    .dataframe thead th {\n        text-align: right;\n    }\n</style>\n<table border=\"1\" class=\"dataframe\">\n  <thead>\n    <tr style=\"text-align: right;\">\n      <th></th>\n      <th>dumm-&gt;Action</th>\n      <th>dumm-&gt;Adventure</th>\n      <th>dumm-&gt;Animation</th>\n      <th>dumm-&gt;Children's</th>\n      <th>dumm-&gt;Comedy</th>\n      <th>dumm-&gt;Crime</th>\n      <th>dumm-&gt;Documentary</th>\n      <th>dumm-&gt;Drama</th>\n      <th>dumm-&gt;Fantasy</th>\n      <th>dumm-&gt;Film-Noir</th>\n      <th>...</th>\n      <th>dumm-&gt;Thriller</th>\n      <th>dumm-&gt;War</th>\n      <th>dumm-&gt;Western</th>\n      <th>dumm-&gt;Fantasy</th>\n      <th>dumm-&gt;Musical</th>\n      <th>dumm-&gt;Romance</th>\n      <th>dumm-&gt;Sci-Fi</th>\n      <th>dumm-&gt;Thriller</th>\n      <th>dumm-&gt;War</th>\n      <th>dumm-&gt;War</th>\n    </tr>\n  </thead>\n  <tbody>\n    <tr>\n      <th>0</th>\n      <td>0</td>\n      <td>0</td>\n      <td>1</td>\n      <td>0</td>\n      <td>0</td>\n      <td>0</td>\n      <td>0</td>\n      <td>0</td>\n      <td>0</td>\n      <td>0</td>\n      <td>...</td>\n      <td>0</td>\n      <td>0</td>\n      <td>0</td>\n      <td>0</td>\n      <td>0</td>\n      <td>0</td>\n      <td>0</td>\n      <td>0</td>\n      <td>0</td>\n      <td>0</td>\n    </tr>\n    <tr>\n      <th>1</th>\n      <td>0</td>\n      <td>1</td>\n      <td>0</td>\n      <td>0</td>\n      <td>0</td>\n      <td>0</td>\n      <td>0</td>\n      <td>0</td>\n      <td>0</td>\n      <td>0</td>\n      <td>...</td>\n      <td>0</td>\n      <td>0</td>\n      <td>0</td>\n      <td>0</td>\n      <td>0</td>\n      <td>0</td>\n      <td>0</td>\n      <td>0</td>\n      <td>0</td>\n      <td>0</td>\n    </tr>\n    <tr>\n      <th>2</th>\n      <td>0</td>\n      <td>0</td>\n      <td>0</td>\n      <td>0</td>\n      <td>1</td>\n      <td>0</td>\n      <td>0</td>\n      <td>0</td>\n      <td>0</td>\n      <td>0</td>\n      <td>...</td>\n      <td>0</td>\n      <td>0</td>\n      <td>0</td>\n      <td>0</td>\n      <td>0</td>\n      <td>0</td>\n      <td>0</td>\n      <td>0</td>\n      <td>0</td>\n      <td>0</td>\n    </tr>\n    <tr>\n      <th>3</th>\n      <td>0</td>\n      <td>0</td>\n      <td>0</td>\n      <td>0</td>\n      <td>1</td>\n      <td>0</td>\n      <td>0</td>\n      <td>0</td>\n      <td>0</td>\n      <td>0</td>\n      <td>...</td>\n      <td>0</td>\n      <td>0</td>\n      <td>0</td>\n      <td>0</td>\n      <td>0</td>\n      <td>0</td>\n      <td>0</td>\n      <td>0</td>\n      <td>0</td>\n      <td>0</td>\n    </tr>\n    <tr>\n      <th>4</th>\n      <td>0</td>\n      <td>0</td>\n      <td>0</td>\n      <td>0</td>\n      <td>1</td>\n      <td>0</td>\n      <td>0</td>\n      <td>0</td>\n      <td>0</td>\n      <td>0</td>\n      <td>...</td>\n      <td>0</td>\n      <td>0</td>\n      <td>0</td>\n      <td>0</td>\n      <td>0</td>\n      <td>0</td>\n      <td>0</td>\n      <td>0</td>\n      <td>0</td>\n      <td>0</td>\n    </tr>\n    <tr>\n      <th>...</th>\n      <td>...</td>\n      <td>...</td>\n      <td>...</td>\n      <td>...</td>\n      <td>...</td>\n      <td>...</td>\n      <td>...</td>\n      <td>...</td>\n      <td>...</td>\n      <td>...</td>\n      <td>...</td>\n      <td>...</td>\n      <td>...</td>\n      <td>...</td>\n      <td>...</td>\n      <td>...</td>\n      <td>...</td>\n      <td>...</td>\n      <td>...</td>\n      <td>...</td>\n      <td>...</td>\n    </tr>\n    <tr>\n      <th>3878</th>\n      <td>0</td>\n      <td>0</td>\n      <td>0</td>\n      <td>0</td>\n      <td>1</td>\n      <td>0</td>\n      <td>0</td>\n      <td>0</td>\n      <td>0</td>\n      <td>0</td>\n      <td>...</td>\n      <td>0</td>\n      <td>0</td>\n      <td>0</td>\n      <td>0</td>\n      <td>0</td>\n      <td>0</td>\n      <td>0</td>\n      <td>0</td>\n      <td>0</td>\n      <td>0</td>\n    </tr>\n    <tr>\n      <th>3879</th>\n      <td>0</td>\n      <td>0</td>\n      <td>0</td>\n      <td>0</td>\n      <td>0</td>\n      <td>0</td>\n      <td>0</td>\n      <td>1</td>\n      <td>0</td>\n      <td>0</td>\n      <td>...</td>\n      <td>0</td>\n      <td>0</td>\n      <td>0</td>\n      <td>0</td>\n      <td>0</td>\n      <td>0</td>\n      <td>0</td>\n      <td>0</td>\n      <td>0</td>\n      <td>0</td>\n    </tr>\n    <tr>\n      <th>3880</th>\n      <td>0</td>\n      <td>0</td>\n      <td>0</td>\n      <td>0</td>\n      <td>0</td>\n      <td>0</td>\n      <td>0</td>\n      <td>1</td>\n      <td>0</td>\n      <td>0</td>\n      <td>...</td>\n      <td>0</td>\n      <td>0</td>\n      <td>0</td>\n      <td>0</td>\n      <td>0</td>\n      <td>0</td>\n      <td>0</td>\n      <td>0</td>\n      <td>0</td>\n      <td>0</td>\n    </tr>\n    <tr>\n      <th>3881</th>\n      <td>0</td>\n      <td>0</td>\n      <td>0</td>\n      <td>0</td>\n      <td>0</td>\n      <td>0</td>\n      <td>0</td>\n      <td>1</td>\n      <td>0</td>\n      <td>0</td>\n      <td>...</td>\n      <td>0</td>\n      <td>0</td>\n      <td>0</td>\n      <td>0</td>\n      <td>0</td>\n      <td>0</td>\n      <td>0</td>\n      <td>0</td>\n      <td>0</td>\n      <td>0</td>\n    </tr>\n    <tr>\n      <th>3882</th>\n      <td>0</td>\n      <td>0</td>\n      <td>0</td>\n      <td>0</td>\n      <td>0</td>\n      <td>0</td>\n      <td>0</td>\n      <td>1</td>\n      <td>0</td>\n      <td>0</td>\n      <td>...</td>\n      <td>0</td>\n      <td>0</td>\n      <td>0</td>\n      <td>0</td>\n      <td>0</td>\n      <td>0</td>\n      <td>0</td>\n      <td>0</td>\n      <td>0</td>\n      <td>0</td>\n    </tr>\n  </tbody>\n</table>\n<p>3883 rows × 70 columns</p>\n</div>"
     },
     "execution_count": 134,
     "metadata": {},
     "output_type": "execute_result"
    }
   ],
   "source": [
    "genres_dumm = pd.get_dummies(genres_pd,prefix='dumm',prefix_sep='->')\n",
    "genres_dumm"
   ],
   "metadata": {
    "collapsed": false,
    "pycharm": {
     "name": "#%%\n"
    }
   }
  },
  {
   "cell_type": "code",
   "execution_count": 143,
   "outputs": [
    {
     "data": {
      "text/plain": "0       False\n1       False\n2       False\n3       False\n4       False\n        ...  \n3878    False\n3879    False\n3880    False\n3881    False\n3882    False\nLength: 3883, dtype: bool"
     },
     "execution_count": 143,
     "metadata": {},
     "output_type": "execute_result"
    }
   ],
   "source": [
    "(genres_pd == 'Action').any(axis=1)"
   ],
   "metadata": {
    "collapsed": false,
    "pycharm": {
     "name": "#%%\n"
    }
   }
  },
  {
   "cell_type": "code",
   "execution_count": 156,
   "outputs": [],
   "source": [
    "genres_ActionIndex = genres_pd[(genres_pd == 'Action').any(axis=1)].index"
   ],
   "metadata": {
    "collapsed": false,
    "pycharm": {
     "name": "#%%\n"
    }
   }
  },
  {
   "cell_type": "code",
   "execution_count": 157,
   "outputs": [],
   "source": [
    "movies['genres-Action'] = pd.Series('Action',index=genres_ActionIndex)"
   ],
   "metadata": {
    "collapsed": false,
    "pycharm": {
     "name": "#%%\n"
    }
   }
  },
  {
   "cell_type": "code",
   "execution_count": 158,
   "outputs": [
    {
     "data": {
      "text/plain": "Action    503\nName: genres-Action, dtype: int64"
     },
     "execution_count": 158,
     "metadata": {},
     "output_type": "execute_result"
    }
   ],
   "source": [
    "movies['genres-Action'].value_counts()"
   ],
   "metadata": {
    "collapsed": false,
    "pycharm": {
     "name": "#%%\n"
    }
   }
  },
  {
   "cell_type": "code",
   "execution_count": 178,
   "outputs": [],
   "source": [
    "movies['genres-Adventure'] = pd.Series('Adventure',index=(genres_pd[(genres_pd == 'Adventure').any(axis=1)].index))\n",
    "genres_pd.loc[:,'a'].unique()"
   ],
   "metadata": {
    "collapsed": false,
    "pycharm": {
     "name": "#%%\n"
    }
   }
  },
  {
   "cell_type": "code",
   "execution_count": 179,
   "outputs": [
    {
     "data": {
      "text/plain": "      movie_id                               title  \\\n0            1                    Toy Story (1995)   \n1            2                      Jumanji (1995)   \n2            3             Grumpier Old Men (1995)   \n3            4            Waiting to Exhale (1995)   \n4            5  Father of the Bride Part II (1995)   \n...        ...                                 ...   \n3878      3948             Meet the Parents (2000)   \n3879      3949          Requiem for a Dream (2000)   \n3880      3950                    Tigerland (2000)   \n3881      3951             Two Family House (2000)   \n3882      3952               Contender, The (2000)   \n\n                            genres genres-Adventure genres-Animation  \\\n0      Animation|Children's|Comedy              NaN        Animation   \n1     Adventure|Children's|Fantasy        Adventure              NaN   \n2                   Comedy|Romance              NaN              NaN   \n3                     Comedy|Drama              NaN              NaN   \n4                           Comedy              NaN              NaN   \n...                            ...              ...              ...   \n3878                        Comedy              NaN              NaN   \n3879                         Drama              NaN              NaN   \n3880                         Drama              NaN              NaN   \n3881                         Drama              NaN              NaN   \n3882                Drama|Thriller              NaN              NaN   \n\n     genres-Childrens genres-Comedy genres-Crime  \n0            Children        Comedy          NaN  \n1            Children           NaN          NaN  \n2                 NaN        Comedy          NaN  \n3                 NaN        Comedy          NaN  \n4                 NaN        Comedy          NaN  \n...               ...           ...          ...  \n3878              NaN        Comedy          NaN  \n3879              NaN           NaN          NaN  \n3880              NaN           NaN          NaN  \n3881              NaN           NaN          NaN  \n3882              NaN           NaN          NaN  \n\n[3883 rows x 8 columns]",
      "text/html": "<div>\n<style scoped>\n    .dataframe tbody tr th:only-of-type {\n        vertical-align: middle;\n    }\n\n    .dataframe tbody tr th {\n        vertical-align: top;\n    }\n\n    .dataframe thead th {\n        text-align: right;\n    }\n</style>\n<table border=\"1\" class=\"dataframe\">\n  <thead>\n    <tr style=\"text-align: right;\">\n      <th></th>\n      <th>movie_id</th>\n      <th>title</th>\n      <th>genres</th>\n      <th>genres-Adventure</th>\n      <th>genres-Animation</th>\n      <th>genres-Childrens</th>\n      <th>genres-Comedy</th>\n      <th>genres-Crime</th>\n    </tr>\n  </thead>\n  <tbody>\n    <tr>\n      <th>0</th>\n      <td>1</td>\n      <td>Toy Story (1995)</td>\n      <td>Animation|Children's|Comedy</td>\n      <td>NaN</td>\n      <td>Animation</td>\n      <td>Children</td>\n      <td>Comedy</td>\n      <td>NaN</td>\n    </tr>\n    <tr>\n      <th>1</th>\n      <td>2</td>\n      <td>Jumanji (1995)</td>\n      <td>Adventure|Children's|Fantasy</td>\n      <td>Adventure</td>\n      <td>NaN</td>\n      <td>Children</td>\n      <td>NaN</td>\n      <td>NaN</td>\n    </tr>\n    <tr>\n      <th>2</th>\n      <td>3</td>\n      <td>Grumpier Old Men (1995)</td>\n      <td>Comedy|Romance</td>\n      <td>NaN</td>\n      <td>NaN</td>\n      <td>NaN</td>\n      <td>Comedy</td>\n      <td>NaN</td>\n    </tr>\n    <tr>\n      <th>3</th>\n      <td>4</td>\n      <td>Waiting to Exhale (1995)</td>\n      <td>Comedy|Drama</td>\n      <td>NaN</td>\n      <td>NaN</td>\n      <td>NaN</td>\n      <td>Comedy</td>\n      <td>NaN</td>\n    </tr>\n    <tr>\n      <th>4</th>\n      <td>5</td>\n      <td>Father of the Bride Part II (1995)</td>\n      <td>Comedy</td>\n      <td>NaN</td>\n      <td>NaN</td>\n      <td>NaN</td>\n      <td>Comedy</td>\n      <td>NaN</td>\n    </tr>\n    <tr>\n      <th>...</th>\n      <td>...</td>\n      <td>...</td>\n      <td>...</td>\n      <td>...</td>\n      <td>...</td>\n      <td>...</td>\n      <td>...</td>\n      <td>...</td>\n    </tr>\n    <tr>\n      <th>3878</th>\n      <td>3948</td>\n      <td>Meet the Parents (2000)</td>\n      <td>Comedy</td>\n      <td>NaN</td>\n      <td>NaN</td>\n      <td>NaN</td>\n      <td>Comedy</td>\n      <td>NaN</td>\n    </tr>\n    <tr>\n      <th>3879</th>\n      <td>3949</td>\n      <td>Requiem for a Dream (2000)</td>\n      <td>Drama</td>\n      <td>NaN</td>\n      <td>NaN</td>\n      <td>NaN</td>\n      <td>NaN</td>\n      <td>NaN</td>\n    </tr>\n    <tr>\n      <th>3880</th>\n      <td>3950</td>\n      <td>Tigerland (2000)</td>\n      <td>Drama</td>\n      <td>NaN</td>\n      <td>NaN</td>\n      <td>NaN</td>\n      <td>NaN</td>\n      <td>NaN</td>\n    </tr>\n    <tr>\n      <th>3881</th>\n      <td>3951</td>\n      <td>Two Family House (2000)</td>\n      <td>Drama</td>\n      <td>NaN</td>\n      <td>NaN</td>\n      <td>NaN</td>\n      <td>NaN</td>\n      <td>NaN</td>\n    </tr>\n    <tr>\n      <th>3882</th>\n      <td>3952</td>\n      <td>Contender, The (2000)</td>\n      <td>Drama|Thriller</td>\n      <td>NaN</td>\n      <td>NaN</td>\n      <td>NaN</td>\n      <td>NaN</td>\n      <td>NaN</td>\n    </tr>\n  </tbody>\n</table>\n<p>3883 rows × 8 columns</p>\n</div>"
     },
     "execution_count": 179,
     "metadata": {},
     "output_type": "execute_result"
    }
   ],
   "source": [
    "movies"
   ],
   "metadata": {
    "collapsed": false,
    "pycharm": {
     "name": "#%%\n"
    }
   }
  },
  {
   "cell_type": "code",
   "execution_count": 204,
   "outputs": [],
   "source": [
    "for i in (genres_pd.loc[:,'a'].unique()):\n",
    "    movies['genr_'+i] = pd.Series(1,index=(genres_pd[(genres_pd == i).any(axis=1)].index))"
   ],
   "metadata": {
    "collapsed": false,
    "pycharm": {
     "name": "#%%\n"
    }
   }
  },
  {
   "cell_type": "code",
   "execution_count": null,
   "outputs": [],
   "source": [
    "movies"
   ],
   "metadata": {
    "collapsed": false,
    "pycharm": {
     "name": "#%%\n",
     "is_executing": true
    }
   }
  },
  {
   "cell_type": "code",
   "execution_count": 206,
   "outputs": [
    {
     "data": {
      "text/plain": "movie_id                                     1\ntitle                         Toy Story (1995)\ngenres             Animation|Children's|Comedy\ngenr_Animation                             1.0\ngenr_Comedy                                1.0\ngenr_Children's                            1.0\nName: 0, dtype: object"
     },
     "execution_count": 206,
     "metadata": {},
     "output_type": "execute_result"
    }
   ],
   "source": [
    "movies.iloc[0].dropna()"
   ],
   "metadata": {
    "collapsed": false,
    "pycharm": {
     "name": "#%%\n"
    }
   }
  },
  {
   "cell_type": "code",
   "execution_count": null,
   "outputs": [],
   "source": [],
   "metadata": {
    "collapsed": false,
    "pycharm": {
     "name": "#%%\n",
     "is_executing": true
    }
   }
  },
  {
   "cell_type": "code",
   "execution_count": null,
   "outputs": [],
   "source": [],
   "metadata": {
    "collapsed": false,
    "pycharm": {
     "name": "#%%\n"
    }
   }
  }
 ],
 "metadata": {
  "kernelspec": {
   "display_name": "Python 3",
   "language": "python",
   "name": "python3"
  },
  "language_info": {
   "codemirror_mode": {
    "name": "ipython",
    "version": 2
   },
   "file_extension": ".py",
   "mimetype": "text/x-python",
   "name": "python",
   "nbconvert_exporter": "python",
   "pygments_lexer": "ipython2",
   "version": "2.7.6"
  }
 },
 "nbformat": 4,
 "nbformat_minor": 0
}