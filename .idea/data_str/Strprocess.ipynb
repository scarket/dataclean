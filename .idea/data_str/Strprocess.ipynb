{
 "cells": [
  {
   "cell_type": "code",
   "execution_count": 2,
   "metadata": {
    "collapsed": true
   },
   "outputs": [
    {
     "data": {
      "text/plain": "['foo', 'bar', 'baz', 'qux']"
     },
     "execution_count": 2,
     "metadata": {},
     "output_type": "execute_result"
    }
   ],
   "source": [
    "import numpy as np\n",
    "import pandas as pd\n",
    "import re\n",
    "text = \"foo    bar\\t baz  \\tqux\"\n",
    "pattern = '\\s+'\n",
    "text_re = re.split(pattern,text)\n",
    "text_re"
   ]
  },
  {
   "cell_type": "code",
   "execution_count": 7,
   "outputs": [
    {
     "data": {
      "text/plain": "True"
     },
     "execution_count": 7,
     "metadata": {},
     "output_type": "execute_result"
    }
   ],
   "source": [
    "import re\n",
    "a = re.search(r'fox','the quick brown fox jumpred')\n",
    "#第一个参数为正则表达式，第二个参数为要处理的字符串\n",
    "bool(a)"
   ],
   "metadata": {
    "collapsed": false,
    "pycharm": {
     "name": "#%%\n"
    }
   }
  },
  {
   "cell_type": "code",
   "execution_count": 6,
   "outputs": [],
   "source": [],
   "metadata": {
    "collapsed": false,
    "pycharm": {
     "name": "#%%\n"
    }
   }
  },
  {
   "cell_type": "code",
   "execution_count": 8,
   "outputs": [
    {
     "data": {
      "text/plain": "['Python', 'python']"
     },
     "execution_count": 8,
     "metadata": {},
     "output_type": "execute_result"
    }
   ],
   "source": [
    "text02 = 'I like Python3 and I like python2.7 '\n",
    "a = re.findall(r'[Pp]ython',text02)\n",
    "#  匹配字符组[Pp]表示此处可以为[]内的任何值\n",
    "a"
   ],
   "metadata": {
    "collapsed": false,
    "pycharm": {
     "name": "#%%\n"
    }
   }
  },
  {
   "cell_type": "code",
   "execution_count": 11,
   "outputs": [
    {
     "name": "stdout",
     "output_type": "stream",
     "text": [
      "['x', 'x', 'x', 'a', 'b', 'c']\n",
      "['0', '0', '7']\n"
     ]
    }
   ],
   "source": [
    "a = re.findall(r'[^0-9]','xxx007abc')\n",
    "b = re.findall(r'[0-9]','xxx007abc')\n",
    "print(a)\n",
    "print(b)"
   ],
   "metadata": {
    "collapsed": false,
    "pycharm": {
     "name": "#%%\n"
    }
   }
  },
  {
   "cell_type": "code",
   "execution_count": 13,
   "outputs": [
    {
     "name": "stdout",
     "output_type": "stream",
     "text": [
      "['na']\n",
      "<re.Match object; span=(2, 4), match='na'>\n",
      "[]\n"
     ]
    }
   ],
   "source": [
    "a = re.findall(r'n[^e]','final')\n",
    "b = re.search(r'n[^e]','final')\n",
    "c = re.findall(r'n[^e]','Python')\n",
    "print(a)\n",
    "print(b)\n",
    "print(c)"
   ],
   "metadata": {
    "collapsed": false,
    "pycharm": {
     "name": "#%%\n"
    }
   }
  },
  {
   "cell_type": "code",
   "execution_count": 15,
   "outputs": [
    {
     "name": "stdout",
     "output_type": "stream",
     "text": [
      "['学', '好', 'P', 'y', 't', 'h', 'o', 'n', '大', '展', '拳', '脚']\n",
      "['p', 'y', 't', 'h', 'o', 'n', '3']\n",
      "<re.Match object; span=(2, 3), match='8'>\n"
     ]
    }
   ],
   "source": [
    "a = re.findall(r'\\w','学好Python 大展拳脚')\n",
    "b = re.findall(r'\\w','python3')\n",
    "c = re.search(r'\\d','编号89757')\n",
    "print(a)\n",
    "print(b)\n",
    "print(c)"
   ],
   "metadata": {
    "collapsed": false,
    "pycharm": {
     "name": "#%%\n"
    }
   }
  },
  {
   "cell_type": "code",
   "execution_count": 17,
   "outputs": [
    {
     "name": "stdout",
     "output_type": "stream",
     "text": [
      "[]\n",
      "['master']\n"
     ]
    }
   ],
   "source": [
    "a = re.findall(r'\\Bmaster\\B','masterxiao master xxx master abc')\n",
    "#单词字符后面或前面不与另一个单词字符直接相邻\n",
    "b = re.findall(r'master\\B','masterxiao')\n",
    "print(a)\n",
    "print(b)"
   ],
   "metadata": {
    "collapsed": false,
    "pycharm": {
     "name": "#%%\n"
    }
   }
  },
  {
   "cell_type": "code",
   "execution_count": 18,
   "outputs": [
    {
     "name": "stdout",
     "output_type": "stream",
     "text": [
      "(0, 6)\n",
      "None\n",
      "None\n",
      "(7, 13)\n"
     ]
    }
   ],
   "source": [
    "a = re.search(r'^python', 'python is easy')\n",
    "b = re.search(r'python$', 'python is easy')\n",
    "c = re.search(r'^python', 'i love python')\n",
    "d = re.search(r'python$', 'i love python')\n",
    "print(a.span())\n",
    "print(b)\n",
    "print(c)\n",
    "print(d.span())"
   ],
   "metadata": {
    "collapsed": false,
    "pycharm": {
     "name": "#%%\n"
    }
   }
  },
  {
   "cell_type": "code",
   "execution_count": 19,
   "outputs": [
    {
     "name": "stdout",
     "output_type": "stream",
     "text": [
      "['python']\n",
      "['python']\n"
     ]
    }
   ],
   "source": [
    "a = re.findall(r'p.th.n','hello python re')\n",
    "b = re.findall(r'p.....','学好 python 人见人爱')\n",
    "#通配符.  表示此处为任意字符\n",
    "print(a)\n",
    "print(b)"
   ],
   "metadata": {
    "collapsed": false,
    "pycharm": {
     "name": "#%%\n"
    }
   }
  },
  {
   "cell_type": "code",
   "execution_count": 20,
   "outputs": [
    {
     "name": "stdout",
     "output_type": "stream",
     "text": [
      "<re.Match object; span=(15, 20), match='honor'>\n",
      "<re.Match object; span=(15, 21), match='honour'>\n",
      "None\n"
     ]
    }
   ],
   "source": [
    "a = re.search(r'honou?r','He Served with honor and distinction')\n",
    "b = re.search(r'honou?r','He Served with honour and distinction')\n",
    "c = re.search(r'honou?r','He Served with honou and distinction')\n",
    "#  u?   表示字符u可以出现0次或1次\n",
    "print(a)\n",
    "print(b)\n",
    "print(c)"
   ],
   "metadata": {
    "collapsed": false,
    "pycharm": {
     "name": "#%%\n"
    }
   }
  },
  {
   "cell_type": "code",
   "execution_count": 23,
   "outputs": [
    {
     "name": "stdout",
     "output_type": "stream",
     "text": [
      "['0731-8825951', '0733-8794561']\n",
      "['073']\n",
      "['073']\n"
     ]
    }
   ],
   "source": [
    "a = re.findall(r'[\\d]{4}-[\\d]{7}','张三：0731-8825951，李四：0733-8794561')\n",
    "#r''表示去除所有转义字符，-表示横杠，[\\d]{4}表示任意数字重复4次\n",
    "print(a)\n",
    "a = re.findall(r'[\\d]{3,4}?','0731')\n",
    "b = re.findall(r'[\\d]{3,4}','073')\n",
    "print(a)\n",
    "print(b)"
   ],
   "metadata": {
    "collapsed": false,
    "pycharm": {
     "name": "#%%\n"
    }
   }
  },
  {
   "cell_type": "code",
   "execution_count": 31,
   "outputs": [
    {
     "name": "stdout",
     "output_type": "stream",
     "text": [
      "['', '', '', '', '', '', '', '324234', '', '']\n"
     ]
    }
   ],
   "source": [
    "a = re.findall('[\\d]{3,}', '我这个月花了：324234元')\n",
    "#  [\\d]+表示，此处任意n位数字，[\\d]{3,}表示，此处任意数字3位以上\n",
    "print(a)"
   ],
   "metadata": {
    "collapsed": false,
    "pycharm": {
     "name": "#%%\n"
    }
   }
  },
  {
   "cell_type": "code",
   "execution_count": 52,
   "outputs": [
    {
     "data": {
      "text/plain": "['dave@google.com', 'steve@gmail.com', 'rob@live.cn', 'ryan@yahoo.com']"
     },
     "execution_count": 52,
     "metadata": {},
     "output_type": "execute_result"
    }
   ],
   "source": [
    "text = \"\"\"\n",
    "Dave dave@google.com\n",
    "Steve steve@gmail.com\n",
    "Rob rob@live.cn\n",
    "Ryan ryan@yahoo.com\n",
    "\"\"\"\n",
    "\n",
    "pattern02 = r'\\b[\\w]+@[\\w]+\\.[a-z]{2,4}'\n",
    "#自定义正则表达式\n",
    "address_list = re.findall(pattern02,text)\n",
    "#findall输出全部匹配结果，组成list\n",
    "address_list"
   ],
   "metadata": {
    "collapsed": false,
    "pycharm": {
     "name": "#%%\n"
    }
   }
  },
  {
   "cell_type": "code",
   "execution_count": 54,
   "outputs": [],
   "source": [
    "address_list_split = [re.findall(r'[a-z]{1,}',x) for x in address_list]"
   ],
   "metadata": {
    "collapsed": false,
    "pycharm": {
     "name": "#%%\n"
    }
   }
  },
  {
   "cell_type": "code",
   "execution_count": 55,
   "outputs": [
    {
     "data": {
      "text/plain": "[['dave', 'google', 'com'],\n ['steve', 'gmail', 'com'],\n ['rob', 'live', 'cn'],\n ['ryan', 'yahoo', 'com']]"
     },
     "execution_count": 55,
     "metadata": {},
     "output_type": "execute_result"
    }
   ],
   "source": [
    "address_list_split"
   ],
   "metadata": {
    "collapsed": false,
    "pycharm": {
     "name": "#%%\n"
    }
   }
  },
  {
   "cell_type": "code",
   "execution_count": 59,
   "outputs": [],
   "source": [
    "address_pd = pd.DataFrame(address_list_split,columns=['name','email','last'])"
   ],
   "metadata": {
    "collapsed": false,
    "pycharm": {
     "name": "#%%\n"
    }
   }
  },
  {
   "cell_type": "code",
   "execution_count": 60,
   "outputs": [
    {
     "data": {
      "text/plain": "    name   email last\n0   dave  google  com\n1  steve   gmail  com\n2    rob    live   cn\n3   ryan   yahoo  com",
      "text/html": "<div>\n<style scoped>\n    .dataframe tbody tr th:only-of-type {\n        vertical-align: middle;\n    }\n\n    .dataframe tbody tr th {\n        vertical-align: top;\n    }\n\n    .dataframe thead th {\n        text-align: right;\n    }\n</style>\n<table border=\"1\" class=\"dataframe\">\n  <thead>\n    <tr style=\"text-align: right;\">\n      <th></th>\n      <th>name</th>\n      <th>email</th>\n      <th>last</th>\n    </tr>\n  </thead>\n  <tbody>\n    <tr>\n      <th>0</th>\n      <td>dave</td>\n      <td>google</td>\n      <td>com</td>\n    </tr>\n    <tr>\n      <th>1</th>\n      <td>steve</td>\n      <td>gmail</td>\n      <td>com</td>\n    </tr>\n    <tr>\n      <th>2</th>\n      <td>rob</td>\n      <td>live</td>\n      <td>cn</td>\n    </tr>\n    <tr>\n      <th>3</th>\n      <td>ryan</td>\n      <td>yahoo</td>\n      <td>com</td>\n    </tr>\n  </tbody>\n</table>\n</div>"
     },
     "execution_count": 60,
     "metadata": {},
     "output_type": "execute_result"
    }
   ],
   "source": [
    "address_pd"
   ],
   "metadata": {
    "collapsed": false,
    "pycharm": {
     "name": "#%%\n"
    }
   }
  },
  {
   "cell_type": "code",
   "execution_count": null,
   "outputs": [],
   "source": [],
   "metadata": {
    "collapsed": false,
    "pycharm": {
     "name": "#%%\n"
    }
   }
  }
 ],
 "metadata": {
  "kernelspec": {
   "display_name": "Python 3",
   "language": "python",
   "name": "python3"
  },
  "language_info": {
   "codemirror_mode": {
    "name": "ipython",
    "version": 2
   },
   "file_extension": ".py",
   "mimetype": "text/x-python",
   "name": "python",
   "nbconvert_exporter": "python",
   "pygments_lexer": "ipython2",
   "version": "2.7.6"
  }
 },
 "nbformat": 4,
 "nbformat_minor": 0
}